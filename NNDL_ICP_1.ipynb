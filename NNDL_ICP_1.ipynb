{
 "cells": [
  {
   "cell_type": "code",
   "execution_count": 1,
   "id": "2930b154",
   "metadata": {},
   "outputs": [
    {
     "name": "stdout",
     "output_type": "stream",
     "text": [
      "Enter the string 'Python': python\n",
      "Sample output:\n",
      "noht\n",
      "Enter the first number: 4\n",
      "Enter the second number: 5\n",
      "\n",
      "Arithmetic operations on the two numbers:\n",
      "Division: 0.8\n",
      "Multiplication: 20.0\n",
      "Addition: 9.0\n",
      "Subtraction: -1.0\n"
     ]
    }
   ],
   "source": [
    "# Input the string \"Python\" as a list of characters from the console\n",
    "input_string = list(input(\"Enter the string 'Python': \"))\n",
    "\n",
    "# Delete at least 2 characters\n",
    "if len(input_string) >= 2:\n",
    "    del input_string[:2]\n",
    "\n",
    "# Reverse the resultant string\n",
    "resultant_string = input_string[::-1]\n",
    "\n",
    "# Print the reversed resultant string\n",
    "print(\"Sample output:\")\n",
    "print(\"\".join(resultant_string))\n",
    "\n",
    "# Take two numbers from the user\n",
    "num1 = float(input(\"Enter the first number: \"))\n",
    "num2 = float(input(\"Enter the second number: \"))\n",
    "\n",
    "# Perform arithmetic operations\n",
    "addition = num1 + num2\n",
    "subtraction = num1 - num2\n",
    "multiplication = num1 * num2\n",
    "division = num1 / num2\n",
    "\n",
    "# Print the results of arithmetic operations\n",
    "print(\"\\nArithmetic operations on the two numbers:\")\n",
    "print(f\"Division: {division}\")\n",
    "print(f\"Multiplication: {multiplication}\")\n",
    "print(f\"Addition: {addition}\")\n",
    "print(f\"Subtraction: {subtraction}\")\n",
    "\n",
    "\n"
   ]
  },
  {
   "cell_type": "code",
   "execution_count": 2,
   "id": "142cb4df",
   "metadata": {},
   "outputs": [
    {
     "name": "stdout",
     "output_type": "stream",
     "text": [
      "Enter a sentence: I love playing with python \n",
      "Sample output:\n",
      "I love playing with pythons \n"
     ]
    }
   ],
   "source": [
    "def replace_python(sentence):\n",
    "    # Replace every occurrence of 'python' with 'pythons'\n",
    "    modified_sentence = sentence.replace('python', 'pythons')\n",
    "\n",
    "    return modified_sentence\n",
    "\n",
    "# Sample input\n",
    "# Calling the function to replace 'python' with 'pythons'\n",
    "input_sentence = input(\"Enter a sentence: \")\n",
    "output_sentence = replace_python(input_sentence)\n",
    "\n",
    "# Sample output\n",
    "print(\"Sample output:\")\n",
    "print(output_sentence)\n"
   ]
  },
  {
   "cell_type": "code",
   "execution_count": 3,
   "id": "7cb3db78",
   "metadata": {},
   "outputs": [
    {
     "name": "stdout",
     "output_type": "stream",
     "text": [
      "Enter the class score: 75\n",
      "The letter grade for the class score 75.0 is: C\n"
     ]
    }
   ],
   "source": [
    "def get_letter_grade(score):\n",
    "    if 90 <= score <= 100:\n",
    "        return 'A'\n",
    "    elif 80 <= score <= 89:\n",
    "        return 'B'\n",
    "    elif 70 <= score <= 79:\n",
    "        return 'C'\n",
    "    elif 60 <= score <= 69:\n",
    "        return 'D'\n",
    "    else:\n",
    "        return 'F'\n",
    "\n",
    "# Sample input\n",
    "class_score = float(input(\"Enter the class score: \"))\n",
    "\n",
    "# Calling the function to get the letter grade\n",
    "grade = get_letter_grade(class_score)\n",
    "\n",
    "# Print the result\n",
    "print(f\"The letter grade for the class score {class_score} is: {grade}\")"
   ]
  }
 ],
 "metadata": {
  "kernelspec": {
   "display_name": "Python 3 (ipykernel)",
   "language": "python",
   "name": "python3"
  },
  "language_info": {
   "codemirror_mode": {
    "name": "ipython",
    "version": 3
   },
   "file_extension": ".py",
   "mimetype": "text/x-python",
   "name": "python",
   "nbconvert_exporter": "python",
   "pygments_lexer": "ipython3",
   "version": "3.9.13"
  }
 },
 "nbformat": 4,
 "nbformat_minor": 5
}
